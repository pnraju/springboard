{
 "cells": [
  {
   "cell_type": "markdown",
   "metadata": {},
   "source": [
    "# SQL Case Study"
   ]
  },
  {
   "cell_type": "markdown",
   "metadata": {},
   "source": [
    "Use sqlalchemy to load the SQLite database."
   ]
  },
  {
   "cell_type": "code",
   "execution_count": 1,
   "metadata": {},
   "outputs": [],
   "source": [
    "from sqlalchemy import create_engine\n",
    "import pandas as pd"
   ]
  },
  {
   "cell_type": "code",
   "execution_count": 2,
   "metadata": {},
   "outputs": [
    {
     "data": {
      "text/plain": [
       "['Bookings', 'Facilities', 'Members']"
      ]
     },
     "execution_count": 2,
     "metadata": {},
     "output_type": "execute_result"
    }
   ],
   "source": [
    "engine = create_engine('sqlite:///country_club.db')\n",
    "engine.table_names()"
   ]
  },
  {
   "cell_type": "markdown",
   "metadata": {},
   "source": [
    "Connect to the SQLite database"
   ]
  },
  {
   "cell_type": "code",
   "execution_count": 7,
   "metadata": {},
   "outputs": [],
   "source": [
    "connection = engine.connect()"
   ]
  },
  {
   "cell_type": "markdown",
   "metadata": {},
   "source": [
    "### Questions"
   ]
  },
  {
   "cell_type": "markdown",
   "metadata": {},
   "source": [
    "/* Q10: Produce a list of facilities with a total revenue less than 1000.\n",
    "The output of facility name and total revenue, sorted by revenue. Remember\n",
    "that there's a different cost for guests and members! */"
   ]
  },
  {
   "cell_type": "code",
   "execution_count": 8,
   "metadata": {},
   "outputs": [
    {
     "data": {
      "text/html": [
       "<div>\n",
       "<style scoped>\n",
       "    .dataframe tbody tr th:only-of-type {\n",
       "        vertical-align: middle;\n",
       "    }\n",
       "\n",
       "    .dataframe tbody tr th {\n",
       "        vertical-align: top;\n",
       "    }\n",
       "\n",
       "    .dataframe thead th {\n",
       "        text-align: right;\n",
       "    }\n",
       "</style>\n",
       "<table border=\"1\" class=\"dataframe\">\n",
       "  <thead>\n",
       "    <tr style=\"text-align: right;\">\n",
       "      <th></th>\n",
       "      <th>facility</th>\n",
       "      <th>revenues</th>\n",
       "    </tr>\n",
       "  </thead>\n",
       "  <tbody>\n",
       "    <tr>\n",
       "      <th>0</th>\n",
       "      <td>Table Tennis</td>\n",
       "      <td>180</td>\n",
       "    </tr>\n",
       "    <tr>\n",
       "      <th>1</th>\n",
       "      <td>Snooker Table</td>\n",
       "      <td>240</td>\n",
       "    </tr>\n",
       "    <tr>\n",
       "      <th>2</th>\n",
       "      <td>Pool Table</td>\n",
       "      <td>270</td>\n",
       "    </tr>\n",
       "  </tbody>\n",
       "</table>\n",
       "</div>"
      ],
      "text/plain": [
       "        facility  revenues\n",
       "0   Table Tennis       180\n",
       "1  Snooker Table       240\n",
       "2     Pool Table       270"
      ]
     },
     "execution_count": 8,
     "metadata": {},
     "output_type": "execute_result"
    }
   ],
   "source": [
    "query = connection.execute(\"\"\"\n",
    "SELECT *\n",
    "FROM (\n",
    "    SELECT name AS facility,\n",
    "        SUM(CASE WHEN memid = 0 THEN guestcost * slots\n",
    "            ELSE membercost * slots END) AS revenues\n",
    "    FROM Bookings\n",
    "    INNER JOIN Facilities\n",
    "        USING (facid)\n",
    "    GROUP BY facid\n",
    "    ORDER BY revenues\n",
    ")\n",
    "WHERE revenues < 1000\n",
    "\"\"\")\n",
    "df = pd.DataFrame(query.fetchall(), columns=query.keys())\n",
    "df"
   ]
  },
  {
   "cell_type": "markdown",
   "metadata": {},
   "source": [
    "/* Q11: Produce a report of members and who recommended them in alphabetic surname,firstname order */"
   ]
  },
  {
   "cell_type": "code",
   "execution_count": 10,
   "metadata": {},
   "outputs": [
    {
     "data": {
      "text/html": [
       "<div>\n",
       "<style scoped>\n",
       "    .dataframe tbody tr th:only-of-type {\n",
       "        vertical-align: middle;\n",
       "    }\n",
       "\n",
       "    .dataframe tbody tr th {\n",
       "        vertical-align: top;\n",
       "    }\n",
       "\n",
       "    .dataframe thead th {\n",
       "        text-align: right;\n",
       "    }\n",
       "</style>\n",
       "<table border=\"1\" class=\"dataframe\">\n",
       "  <thead>\n",
       "    <tr style=\"text-align: right;\">\n",
       "      <th></th>\n",
       "      <th>surname</th>\n",
       "      <th>firstname</th>\n",
       "      <th>R.surname || ', ' || R.firstname</th>\n",
       "    </tr>\n",
       "  </thead>\n",
       "  <tbody>\n",
       "    <tr>\n",
       "      <th>0</th>\n",
       "      <td>Bader</td>\n",
       "      <td>Florence</td>\n",
       "      <td>Stibbons, Ponder</td>\n",
       "    </tr>\n",
       "    <tr>\n",
       "      <th>1</th>\n",
       "      <td>Baker</td>\n",
       "      <td>Anne</td>\n",
       "      <td>Stibbons, Ponder</td>\n",
       "    </tr>\n",
       "    <tr>\n",
       "      <th>2</th>\n",
       "      <td>Baker</td>\n",
       "      <td>Timothy</td>\n",
       "      <td>Farrell, Jemima</td>\n",
       "    </tr>\n",
       "    <tr>\n",
       "      <th>3</th>\n",
       "      <td>Boothe</td>\n",
       "      <td>Tim</td>\n",
       "      <td>Rownam, Tim</td>\n",
       "    </tr>\n",
       "    <tr>\n",
       "      <th>4</th>\n",
       "      <td>Butters</td>\n",
       "      <td>Gerald</td>\n",
       "      <td>Smith, Darren</td>\n",
       "    </tr>\n",
       "    <tr>\n",
       "      <th>5</th>\n",
       "      <td>Coplin</td>\n",
       "      <td>Joan</td>\n",
       "      <td>Baker, Timothy</td>\n",
       "    </tr>\n",
       "    <tr>\n",
       "      <th>6</th>\n",
       "      <td>Crumpet</td>\n",
       "      <td>Erica</td>\n",
       "      <td>Smith, Tracy</td>\n",
       "    </tr>\n",
       "    <tr>\n",
       "      <th>7</th>\n",
       "      <td>Dare</td>\n",
       "      <td>Nancy</td>\n",
       "      <td>Joplette, Janice</td>\n",
       "    </tr>\n",
       "    <tr>\n",
       "      <th>8</th>\n",
       "      <td>Genting</td>\n",
       "      <td>Matthew</td>\n",
       "      <td>Butters, Gerald</td>\n",
       "    </tr>\n",
       "    <tr>\n",
       "      <th>9</th>\n",
       "      <td>Hunt</td>\n",
       "      <td>John</td>\n",
       "      <td>Purview, Millicent</td>\n",
       "    </tr>\n",
       "    <tr>\n",
       "      <th>10</th>\n",
       "      <td>Jones</td>\n",
       "      <td>David</td>\n",
       "      <td>Joplette, Janice</td>\n",
       "    </tr>\n",
       "    <tr>\n",
       "      <th>11</th>\n",
       "      <td>Jones</td>\n",
       "      <td>Douglas</td>\n",
       "      <td>Jones, David</td>\n",
       "    </tr>\n",
       "    <tr>\n",
       "      <th>12</th>\n",
       "      <td>Joplette</td>\n",
       "      <td>Janice</td>\n",
       "      <td>Smith, Darren</td>\n",
       "    </tr>\n",
       "    <tr>\n",
       "      <th>13</th>\n",
       "      <td>Mackenzie</td>\n",
       "      <td>Anna</td>\n",
       "      <td>Smith, Darren</td>\n",
       "    </tr>\n",
       "    <tr>\n",
       "      <th>14</th>\n",
       "      <td>Owen</td>\n",
       "      <td>Charles</td>\n",
       "      <td>Smith, Darren</td>\n",
       "    </tr>\n",
       "    <tr>\n",
       "      <th>15</th>\n",
       "      <td>Pinker</td>\n",
       "      <td>David</td>\n",
       "      <td>Farrell, Jemima</td>\n",
       "    </tr>\n",
       "    <tr>\n",
       "      <th>16</th>\n",
       "      <td>Purview</td>\n",
       "      <td>Millicent</td>\n",
       "      <td>Smith, Tracy</td>\n",
       "    </tr>\n",
       "    <tr>\n",
       "      <th>17</th>\n",
       "      <td>Rumney</td>\n",
       "      <td>Henrietta</td>\n",
       "      <td>Genting, Matthew</td>\n",
       "    </tr>\n",
       "    <tr>\n",
       "      <th>18</th>\n",
       "      <td>Sarwin</td>\n",
       "      <td>Ramnaresh</td>\n",
       "      <td>Bader, Florence</td>\n",
       "    </tr>\n",
       "    <tr>\n",
       "      <th>19</th>\n",
       "      <td>Smith</td>\n",
       "      <td>Jack</td>\n",
       "      <td>Smith, Darren</td>\n",
       "    </tr>\n",
       "    <tr>\n",
       "      <th>20</th>\n",
       "      <td>Stibbons</td>\n",
       "      <td>Ponder</td>\n",
       "      <td>Tracy, Burton</td>\n",
       "    </tr>\n",
       "    <tr>\n",
       "      <th>21</th>\n",
       "      <td>Worthington-Smyth</td>\n",
       "      <td>Henry</td>\n",
       "      <td>Smith, Tracy</td>\n",
       "    </tr>\n",
       "  </tbody>\n",
       "</table>\n",
       "</div>"
      ],
      "text/plain": [
       "              surname  firstname R.surname || ', ' || R.firstname\n",
       "0               Bader   Florence                 Stibbons, Ponder\n",
       "1               Baker       Anne                 Stibbons, Ponder\n",
       "2               Baker    Timothy                  Farrell, Jemima\n",
       "3              Boothe        Tim                      Rownam, Tim\n",
       "4             Butters     Gerald                    Smith, Darren\n",
       "5              Coplin       Joan                   Baker, Timothy\n",
       "6             Crumpet      Erica                     Smith, Tracy\n",
       "7                Dare      Nancy                 Joplette, Janice\n",
       "8             Genting    Matthew                  Butters, Gerald\n",
       "9                Hunt       John               Purview, Millicent\n",
       "10              Jones      David                 Joplette, Janice\n",
       "11              Jones    Douglas                     Jones, David\n",
       "12           Joplette     Janice                    Smith, Darren\n",
       "13          Mackenzie       Anna                    Smith, Darren\n",
       "14               Owen    Charles                    Smith, Darren\n",
       "15             Pinker      David                  Farrell, Jemima\n",
       "16            Purview  Millicent                     Smith, Tracy\n",
       "17             Rumney  Henrietta                 Genting, Matthew\n",
       "18             Sarwin  Ramnaresh                  Bader, Florence\n",
       "19              Smith       Jack                    Smith, Darren\n",
       "20           Stibbons     Ponder                    Tracy, Burton\n",
       "21  Worthington-Smyth      Henry                     Smith, Tracy"
      ]
     },
     "execution_count": 10,
     "metadata": {},
     "output_type": "execute_result"
    }
   ],
   "source": [
    "query = connection.execute(\"\"\"\n",
    "SELECT M.surname, M.firstname, R.surname || ', ' || R.firstname\n",
    "FROM Members AS M\n",
    "INNER JOIN Members AS R\n",
    "    ON M.recommendedby = R.memid\n",
    "ORDER BY M.surname, M.firstname\n",
    "\"\"\")\n",
    "df = pd.DataFrame(query.fetchall(), columns=query.keys())\n",
    "df"
   ]
  },
  {
   "cell_type": "markdown",
   "metadata": {},
   "source": [
    "/* Q12: Find the facilities with their usage by member, but not guests */"
   ]
  },
  {
   "cell_type": "code",
   "execution_count": 11,
   "metadata": {},
   "outputs": [
    {
     "data": {
      "text/html": [
       "<div>\n",
       "<style scoped>\n",
       "    .dataframe tbody tr th:only-of-type {\n",
       "        vertical-align: middle;\n",
       "    }\n",
       "\n",
       "    .dataframe tbody tr th {\n",
       "        vertical-align: top;\n",
       "    }\n",
       "\n",
       "    .dataframe thead th {\n",
       "        text-align: right;\n",
       "    }\n",
       "</style>\n",
       "<table border=\"1\" class=\"dataframe\">\n",
       "  <thead>\n",
       "    <tr style=\"text-align: right;\">\n",
       "      <th></th>\n",
       "      <th>facility</th>\n",
       "      <th>member_usage_hours</th>\n",
       "    </tr>\n",
       "  </thead>\n",
       "  <tbody>\n",
       "    <tr>\n",
       "      <th>0</th>\n",
       "      <td>Badminton Court</td>\n",
       "      <td>543.0</td>\n",
       "    </tr>\n",
       "    <tr>\n",
       "      <th>1</th>\n",
       "      <td>Massage Room 1</td>\n",
       "      <td>442.0</td>\n",
       "    </tr>\n",
       "    <tr>\n",
       "      <th>2</th>\n",
       "      <td>Massage Room 2</td>\n",
       "      <td>27.0</td>\n",
       "    </tr>\n",
       "    <tr>\n",
       "      <th>3</th>\n",
       "      <td>Pool Table</td>\n",
       "      <td>428.0</td>\n",
       "    </tr>\n",
       "    <tr>\n",
       "      <th>4</th>\n",
       "      <td>Snooker Table</td>\n",
       "      <td>430.0</td>\n",
       "    </tr>\n",
       "    <tr>\n",
       "      <th>5</th>\n",
       "      <td>Squash Court</td>\n",
       "      <td>209.0</td>\n",
       "    </tr>\n",
       "    <tr>\n",
       "      <th>6</th>\n",
       "      <td>Table Tennis</td>\n",
       "      <td>397.0</td>\n",
       "    </tr>\n",
       "    <tr>\n",
       "      <th>7</th>\n",
       "      <td>Tennis Court 1</td>\n",
       "      <td>478.5</td>\n",
       "    </tr>\n",
       "    <tr>\n",
       "      <th>8</th>\n",
       "      <td>Tennis Court 2</td>\n",
       "      <td>441.0</td>\n",
       "    </tr>\n",
       "  </tbody>\n",
       "</table>\n",
       "</div>"
      ],
      "text/plain": [
       "          facility  member_usage_hours\n",
       "0  Badminton Court               543.0\n",
       "1   Massage Room 1               442.0\n",
       "2   Massage Room 2                27.0\n",
       "3       Pool Table               428.0\n",
       "4    Snooker Table               430.0\n",
       "5     Squash Court               209.0\n",
       "6     Table Tennis               397.0\n",
       "7   Tennis Court 1               478.5\n",
       "8   Tennis Court 2               441.0"
      ]
     },
     "execution_count": 11,
     "metadata": {},
     "output_type": "execute_result"
    }
   ],
   "source": [
    "query = connection.execute(\"\"\"\n",
    "SELECT name AS facility, SUM(slots * 0.5) AS member_usage_hours\n",
    "FROM Facilities\n",
    "INNER JOIN Bookings\n",
    "    USING (facid)\n",
    "WHERE memid != 0\n",
    "GROUP BY facid\n",
    "ORDER BY facility\n",
    "\"\"\")\n",
    "df = pd.DataFrame(query.fetchall(), columns=query.keys())\n",
    "df"
   ]
  },
  {
   "cell_type": "markdown",
   "metadata": {},
   "source": [
    "/* Q13: Find the facilities usage by month, but not guests */"
   ]
  },
  {
   "cell_type": "code",
   "execution_count": null,
   "metadata": {},
   "outputs": [],
   "source": [
    "query = connection.execute(\"\"\"\n",
    "\"\"\")\n",
    "df = pd.DataFrame(query.fetchall(), columns=query.keys())\n",
    "df"
   ]
  },
  {
   "cell_type": "markdown",
   "metadata": {},
   "source": [
    "Close the database engine connection"
   ]
  },
  {
   "cell_type": "code",
   "execution_count": 5,
   "metadata": {},
   "outputs": [],
   "source": [
    "connection.close()"
   ]
  }
 ],
 "metadata": {
  "kernelspec": {
   "display_name": "Python 3",
   "language": "python",
   "name": "python3"
  },
  "language_info": {
   "codemirror_mode": {
    "name": "ipython",
    "version": 3
   },
   "file_extension": ".py",
   "mimetype": "text/x-python",
   "name": "python",
   "nbconvert_exporter": "python",
   "pygments_lexer": "ipython3",
   "version": "3.7.7"
  }
 },
 "nbformat": 4,
 "nbformat_minor": 4
}
